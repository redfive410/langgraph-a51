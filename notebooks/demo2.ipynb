{
 "cells": [
  {
   "cell_type": "code",
   "execution_count": null,
   "metadata": {},
   "outputs": [],
   "source": [
    "%%capture --no-stderr\n",
    "%pip install -U langgraph\n",
    "%pip install openai"
   ]
  },
  {
   "cell_type": "code",
   "execution_count": null,
   "metadata": {},
   "outputs": [],
   "source": [
    "import random\n",
    "\n",
    "from typing import Annotated\n",
    "from typing_extensions import TypedDict\n",
    "\n",
    "from langgraph.graph import StateGraph\n",
    "from langgraph.graph.message import add_messages\n",
    "from langchain.chat_models import ChatOpenAI\n",
    "from langchain.schema import SystemMessage\n",
    "\n",
    "# OpenAI chat model\n",
    "openai_model = ChatOpenAI(model=\"gpt-4-turbo\", temperature=0.7)\n",
    "\n",
    "# Game State\n",
    "class State(TypedDict):\n",
    "    object_to_guess: str\n",
    "    questions_asked: Annotated[list, add_messages]\n",
    "    guesses_asked: Annotated[list, add_messages]\n",
    "    guess_attempts: int\n",
    "    max_questions: int\n",
    "    winner: str | None\n",
    "\n",
    "# Bot 1: Asks a question\n",
    "def ask_question(state: State):\n",
    "    questions = [item.content for item in state['questions_asked']]\n",
    "    prompt = f\"\"\"You are playing 20 Questions. You need to guess the object that the other AI is thinking of. \n",
    "    Based on previous answers: {questions}, ask a strategic Yes or No question.\"\"\"\n",
    "    \n",
    "    response = openai_model.invoke([SystemMessage(content=prompt)])\n",
    "    return {\"questions_asked\": [response.content]}\n",
    "\n",
    "# Bot 2: Answers the question\n",
    "def answer_question(state: State):\n",
    "    last_question = state[\"questions_asked\"][-1].content\n",
    "    prompt = f\"\"\"You are playing 20 Questions. You need to answer Yes or No. The question being asked is: [{last_question}]. \n",
    "    Only answer with Yes or No.\"\"\"\n",
    "    \n",
    "    response = openai_model.invoke([SystemMessage(content=prompt)])\n",
    "    answer = response.content\n",
    "\n",
    "    state[\"questions_asked\"][-1].content = f\"\"\"{state[\"questions_asked\"][-1].content} {answer}\"\"\"\n",
    "    return {\"answer\": answer}\n",
    "\n",
    "# Bot 1: Makes a guess after some questions\n",
    "def make_guess(state: State):\n",
    "    questions = [item.content for item in state['questions_asked']]\n",
    "    guesses = [item.content for item in state['guesses_asked']]\n",
    "    \n",
    "    prompt = f\"\"\"You have asked these questions: {questions}. You have made the following guesses: {guesses}. \n",
    "    Now make a final guess at what the object is.\"\"\"\n",
    "    \n",
    "    response = openai_model.invoke([SystemMessage(content=prompt)])\n",
    "    \n",
    "    return {\"guesses_asked\": response.content}\n",
    "\n",
    "def check_game_over(state: State):\n",
    "    guess_attempts = state[\"guess_attempts\"] + 1\n",
    "     \n",
    "    prompt = f\"\"\"You are the judge of 20 questions. The object to guess is: [{state[\"object_to_guess\"].lower()}]\n",
    "    The guess is: [{state[\"guesses_asked\"][-1].content}] Is the object mentioned in the guess? Please answer with Yes or No.\"\"\"\n",
    "    response = openai_model.invoke([SystemMessage(content=prompt)])\n",
    "   \n",
    "    if \"Yes\" in response.content:\n",
    "        return {\"winner\": \"Questioner\", \"guess_attempts\": guess_attempts}\n",
    "    else:\n",
    "        return {\"guess_attempts\": guess_attempts}\n",
    "    \n",
    "# Check if game should continue\n",
    "def router(state: State):\n",
    "    if state[\"winner\"]:\n",
    "        return \"end_game\"\n",
    "    elif state[\"guess_attempts\"] >= state[\"max_questions\"]:\n",
    "        return \"end_game\"\n",
    "    return \"ask_question\"\n",
    "\n",
    "# End Game Node\n",
    "def end_game(state: State):\n",
    "    return {\n",
    "        \"message\": f\"Game Over! The correct answer was {state['object_to_guess']}. Winner: {state['winner'] if state['winner'] else 'No one'}\"\n",
    "    }\n",
    "\n",
    "# Create Graph\n",
    "builder = StateGraph(State)\n",
    "\n",
    "# Add nodes\n",
    "builder.add_node(\"ask_question\", ask_question)\n",
    "builder.add_node(\"answer_question\", answer_question)\n",
    "builder.add_node(\"make_guess\", make_guess)\n",
    "builder.add_node(\"check_game_over\", check_game_over)\n",
    "builder.add_node(\"end_game\", end_game)\n",
    "\n",
    "# Define flow\n",
    "builder.set_entry_point(\"ask_question\")\n",
    "builder.add_edge(\"ask_question\", \"answer_question\")\n",
    "builder.add_edge(\"answer_question\", \"make_guess\")\n",
    "builder.add_edge(\"make_guess\", \"check_game_over\")\n",
    "builder.add_conditional_edges(\"check_game_over\", router, {\"ask_question\": \"ask_question\", \"end_game\": \"end_game\"})\n",
    "\n",
    "# Compile and Run\n",
    "graph = builder.compile()"
   ]
  },
  {
   "cell_type": "code",
   "execution_count": null,
   "metadata": {},
   "outputs": [],
   "source": [
    "from IPython.display import Image, display\n",
    "\n",
    "display(Image(graph.get_graph().draw_mermaid_png()))"
   ]
  },
  {
   "cell_type": "code",
   "execution_count": 6,
   "metadata": {},
   "outputs": [
    {
     "data": {
      "text/plain": [
       "{'object_to_guess': 'chair',\n",
       " 'questions_asked': [HumanMessage(content='Is the object something commonly found indoors? Yes.', additional_kwargs={}, response_metadata={}, id='44150869-2b69-4e1c-b580-1b96e0148ade')],\n",
       " 'guesses_asked': [HumanMessage(content='Is the object a chair?', additional_kwargs={}, response_metadata={}, id='274cf8e5-739d-4f1d-90ac-29646fd27649')],\n",
       " 'guess_attempts': 1,\n",
       " 'max_questions': 5,\n",
       " 'winner': 'Questioner'}"
      ]
     },
     "execution_count": 6,
     "metadata": {},
     "output_type": "execute_result"
    }
   ],
   "source": [
    "initial_state: State = {\n",
    "    \"object_to_guess\": random.choice([\"bird\", \"chair\", \"refrigerator\", \"ball\", \"table\"]),\n",
    "    \"questions_asked\": [],\n",
    "    \"guesses_asked\": [],\n",
    "    \"guess_attempts\": 0,\n",
    "    \"max_questions\": 5,\n",
    "    \"winner\": None,\n",
    "}\n",
    "\n",
    "graph.invoke(initial_state)"
   ]
  }
 ],
 "metadata": {
  "kernelspec": {
   "display_name": "venv",
   "language": "python",
   "name": "python3"
  },
  "language_info": {
   "codemirror_mode": {
    "name": "ipython",
    "version": 3
   },
   "file_extension": ".py",
   "mimetype": "text/x-python",
   "name": "python",
   "nbconvert_exporter": "python",
   "pygments_lexer": "ipython3",
   "version": "3.13.2"
  }
 },
 "nbformat": 4,
 "nbformat_minor": 2
}
