{
 "cells": [
  {
   "cell_type": "code",
   "execution_count": 76,
   "metadata": {},
   "outputs": [],
   "source": [
    "%%capture --no-stderr\n",
    "%pip install -U langgraph\n",
    "%pip install openai"
   ]
  },
  {
   "cell_type": "code",
   "execution_count": 77,
   "metadata": {},
   "outputs": [],
   "source": [
    "import random\n",
    "\n",
    "from typing import Annotated\n",
    "from typing_extensions import TypedDict\n",
    "\n",
    "from langgraph.graph import StateGraph\n",
    "from langgraph.graph.message import add_messages\n",
    "from langchain.chat_models import ChatOpenAI\n",
    "from langchain.schema import SystemMessage\n",
    "\n",
    "# OpenAI chat model\n",
    "openai_model = ChatOpenAI(model=\"gpt-4-turbo\", temperature=0.7)\n",
    "\n",
    "# Game State\n",
    "class State(TypedDict):\n",
    "    object_to_guess: str\n",
    "    questions_asked: Annotated[list, add_messages]\n",
    "    guess_attempts: int\n",
    "    max_questions: int\n",
    "    winner: str | None\n",
    "\n",
    "initial_state: State = {\n",
    "    \"object_to_guess\": random.choice([\"Elephant\", \"Laptop\", \"Saturn\", \"Eiffel Tower\", \"Shakespeare\"]),\n",
    "    \"questions_asked\": [],\n",
    "    \"guess_attempts\": 0,\n",
    "    \"max_questions\": 5,\n",
    "    \"winner\": None,\n",
    "}\n",
    "\n",
    "# Bot 1: Asks a question\n",
    "def ask_question(state: State):\n",
    "    questions = [item.content for item in state['questions_asked']]\n",
    "    prompt = f\"\"\"You are playing 20 Questions. You need to guess the object that the other AI is thinking of. \n",
    "    Based on previous answers: {questions}, ask a strategic yes/no question.\"\"\"\n",
    "    \n",
    "    response = openai_model.invoke([SystemMessage(content=prompt)])\n",
    "    return {\"questions_asked\": [response.content]}\n",
    "\n",
    "# Bot 2: Answers the question\n",
    "def answer_question(state: State):\n",
    "    last_question = state[\"questions_asked\"][-1].content\n",
    "    object_name = state[\"object_to_guess\"].lower()\n",
    "\n",
    "    # Simple rule-based answering\n",
    "    if object_name in last_question.lower():\n",
    "        answer = \"Yes\"\n",
    "    elif \"is it alive\" in last_question.lower() and object_name in [\"elephant\", \"shakespeare\"]:\n",
    "        answer = \"Yes\"\n",
    "    elif \"is it a planet\" in last_question.lower() and object_name == \"saturn\":\n",
    "        answer = \"Yes\"\n",
    "    elif \"is it a building\" in last_question.lower() and object_name == \"eiffel tower\":\n",
    "        answer = \"Yes\"\n",
    "    else:\n",
    "        answer = random.choice([\"Yes\", \"No\", \"I don't know\"])\n",
    "\n",
    "    return {\"answer\": answer}\n",
    "\n",
    "# Bot 1: Makes a guess after some questions\n",
    "def make_guess(state: State):\n",
    "    questions = [item.content for item in state['questions_asked']]\n",
    "    prompt = f\"\"\"You have asked these questions: {questions} \n",
    "    and received these answers. Now make a final guess at what the object is.\"\"\"\n",
    "    \n",
    "    response = openai_model.invoke([SystemMessage(content=prompt)])\n",
    "    guess = response.content\n",
    "    guess_attempts = state[\"guess_attempts\"] + 1\n",
    "\n",
    "    if guess.lower() == state[\"object_to_guess\"].lower():\n",
    "        return {\"winner\": \"Questioner\", \"guess_attempts\": guess_attempts}\n",
    "    else:\n",
    "        return {\"guess_attempts\": guess_attempts}\n",
    "\n",
    "def check_game_over(state: State):\n",
    "    return state\n",
    "\n",
    "# Check if game should continue\n",
    "def router(state: State):\n",
    "    if state[\"winner\"]:\n",
    "        return \"end_game\"\n",
    "    elif state[\"guess_attempts\"] >= state[\"max_questions\"]:\n",
    "        return \"end_game\"\n",
    "    return \"ask_question\"\n",
    "\n",
    "# End Game Node\n",
    "def end_game(state: State):\n",
    "    return {\n",
    "        \"message\": f\"Game Over! The correct answer was {state['object_to_guess']}. Winner: {state['winner'] if state['winner'] else 'No one'}\"\n",
    "    }\n",
    "\n",
    "# Create Graph\n",
    "builder = StateGraph(State)\n",
    "\n",
    "# Add nodes\n",
    "builder.add_node(\"ask_question\", ask_question)\n",
    "builder.add_node(\"answer_question\", answer_question)\n",
    "builder.add_node(\"make_guess\", make_guess)\n",
    "builder.add_node(\"check_game_over\", check_game_over)\n",
    "builder.add_node(\"end_game\", end_game)\n",
    "\n",
    "# Define flow\n",
    "builder.set_entry_point(\"ask_question\")\n",
    "builder.add_edge(\"ask_question\", \"answer_question\")\n",
    "builder.add_edge(\"answer_question\", \"make_guess\")\n",
    "builder.add_edge(\"make_guess\", \"check_game_over\")\n",
    "builder.add_conditional_edges(\"check_game_over\", router, {\"ask_question\": \"ask_question\", \"end_game\": \"end_game\"})\n",
    "\n",
    "# Compile and Run\n",
    "graph = builder.compile()"
   ]
  },
  {
   "cell_type": "code",
   "execution_count": 78,
   "metadata": {},
   "outputs": [
    {
     "data": {
      "image/png": "[encoded data removed]",
      "text/plain": [
       "<IPython.core.display.Image object>"
      ]
     },
     "metadata": {},
     "output_type": "display_data"
    }
   ],
   "source": [
    "from IPython.display import Image, display\n",
    "\n",
    "display(Image(graph.get_graph().draw_mermaid_png()))"
   ]
  },
  {
   "cell_type": "code",
   "execution_count": 79,
   "metadata": {},
   "outputs": [
    {
     "data": {
      "text/plain": [
       "{'object_to_guess': 'Eiffel Tower',\n",
       " 'questions_asked': [HumanMessage(content='Is the object something that is typically found indoors?', additional_kwargs={}, response_metadata={}, id='826cd76d-094e-4728-b46a-dd47b4a00f9f'),\n",
       "  HumanMessage(content='Is the object commonly used in a household?', additional_kwargs={}, response_metadata={}, id='6bba6ab8-6c65-4000-a87f-b7c46e18a49d'),\n",
       "  HumanMessage(content='Is the object smaller than a microwave oven?', additional_kwargs={}, response_metadata={}, id='8336bc13-f050-4af5-8d1f-9f86abf42a03'),\n",
       "  HumanMessage(content='Is the object electronic?', additional_kwargs={}, response_metadata={}, id='3debcb2e-6c94-4104-a51a-793629ffdc18'),\n",
       "  HumanMessage(content='Is the object used primarily in the kitchen?', additional_kwargs={}, response_metadata={}, id='38e94a38-8cff-43da-845f-b5dcfa87cbd6')],\n",
       " 'guess_attempts': 5,\n",
       " 'max_questions': 5,\n",
       " 'winner': None}"
      ]
     },
     "execution_count": 79,
     "metadata": {},
     "output_type": "execute_result"
    }
   ],
   "source": [
    "graph.invoke(initial_state)"
   ]
  }
 ],
 "metadata": {
  "kernelspec": {
   "display_name": "venv",
   "language": "python",
   "name": "python3"
  },
  "language_info": {
   "codemirror_mode": {
    "name": "ipython",
    "version": 3
   },
   "file_extension": ".py",
   "mimetype": "text/x-python",
   "name": "python",
   "nbconvert_exporter": "python",
   "pygments_lexer": "ipython3",
   "version": "3.13.2"
  }
 },
 "nbformat": 4,
 "nbformat_minor": 2
}
